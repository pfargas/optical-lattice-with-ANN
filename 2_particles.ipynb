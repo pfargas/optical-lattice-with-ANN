{
 "cells": [
  {
   "cell_type": "code",
   "execution_count": 44,
   "metadata": {},
   "outputs": [],
   "source": [
    "import torch\n",
    "import matplotlib.pyplot as plt\n",
    "\n",
    "device = torch.device(\"cuda\" if torch.cuda.is_available() else \"cpu\")"
   ]
  },
  {
   "cell_type": "code",
   "execution_count": 45,
   "metadata": {},
   "outputs": [],
   "source": [
    "# PARAMS\n",
    "HBAR        = 1.0\n",
    "MASS        = 1.0\n",
    "PBC         = True\n",
    "N_PARTICLES = 2\n",
    "N_POINTS    = 2"
   ]
  },
  {
   "cell_type": "markdown",
   "metadata": {},
   "source": [
    "# Two particles"
   ]
  },
  {
   "cell_type": "markdown",
   "metadata": {},
   "source": [
    "### Exact Diagonalization\n",
    "\n",
    "The one body part (kinetic and potential terms) of the hamiltonian in the position basis reads:\n",
    "\n",
    "$$H = \\mathbb{I}\\otimes \\dots \\otimes K_i\\otimes \\mathbb{I}\\otimes ...\\otimes \\mathbb{I}+\\mathbb{I}\\otimes \\dots \\otimes V_i\\otimes \\mathbb{I}\\otimes ...\\otimes \\mathbb{I}$$\n",
    "\n",
    "Where $K_i \\equiv -\\frac{\\hbar^2}{2m}\\nabla_i^2,\\quad V_i \\equiv V(x_i)$ and $i$ is the index of the particle.\n",
    "\n",
    "How to construct the hamiltonian: Given a base (in this case distretized positions) $\\ket{x_1 x_2...x_p}$ with $p$ particles\n",
    "\n",
    "$$\\hat H = \\sum_{i,j,...}\\sum_{ i', j', ...}\\bra{x_i x_j...}\\hat{H}\\ket{x_{i'} x_{j'}...}\\ket{x_i x_j...}\\bra{x_{i'} x_{j'}...}$$\n",
    "\n",
    "Where $\\hat{H} = \\sum_{i=1}^P T_i+V_i + \\sum_{i<j}U(x_i-y_j)$\n",
    "\n",
    "With two particles, the matrix elements $\\bra{x_i y_j}\\hat{H}\\ket{x_i y_j}$ are:\n",
    "\n",
    "$$\\bra{x_i y_j}\\hat{H}\\ket{x_i y_j} = \\bra{x_i}T+V\\ket{x_j} + \\braket{y}$$\n",
    "\n",
    "$$\\hat{H} = \\sum_{i_1=1}^N \\cdots \\sum_{i_P=1}^N \\sum_{j_1=1}^N \\cdots \\sum_{j_P=1}^N\n",
    "\\langle x_{i_1} x_{i_2} \\dots x_{i_P} | \\hat{H} | x_{j_1} x_{j_2} \\dots x_{j_P} \\rangle\n",
    "\\, | x_{i_1} x_{i_2} \\dots x_{i_P} \\rangle \\langle x_{j_1} x_{j_2} \\dots x_{j_P} |$$\n",
    "\n",
    "\n",
    "$$\\hat{H} = \\sum_{i_1\\cdots i_P=1}^N \\sum_{j_1\\cdots j_P=1}^N\n",
    "\\langle x_{i_1} x_{i_2} \\dots x_{i_P} | \\hat{H} | x_{j_1} x_{j_2} \\dots x_{j_P} \\rangle\n",
    "\\, | x_{i_1} x_{i_2} \\dots x_{i_P} \\rangle \\langle x_{j_1} x_{j_2} \\dots x_{j_P} |$$\n",
    "\n",
    "For 2 particles we have:\n",
    "\n",
    "$$\\hat{H} = \\sum_{i_1 i_2 = 1}^2\\sum_{j_1 j_2 = 1}^2\\langle x_{i_1} x_{i_2} | \\hat{H} | x_{j_1} x_{j_2} \\rangle\n",
    "\\, | x_{i_1} x_{i_2}\\rangle \\langle x_{j_1} x_{j_2} |$$\n",
    "\n",
    "Where\n",
    "\n",
    "$$\\langle x_{i_1} x_{i_2} | \\hat{H} | x_{j_1} x_{j_2} \\rangle = \\langle x_{i_1} x_{i_2} | T_1+V_1+T_2+V_2+\\sum_{i<j}U_{ij} | x_{j_1} x_{j_2} \\rangle = $$\n",
    "\n",
    "$$= \\langle x_{i_1} | T_1+V_1\\ket{x_{j_1}}\\langle{x_{i_2}}|{x_{j_2}}\\rangle+\\langle x_{i_2} | T_2+V_2\\ket{x_{j_2}}\\langle{x_{i_1}}|{x_{j_1}}\\rangle+\\sum_{i<j} \\langle x_{i_1} x_{i_2} |U_{ij}| x_{j_1} x_{j_2} \\rangle$$\n",
    "\n",
    "Using that in position space, the potentials are diagonal: $\\langle y| V | x\\rangle = V(x)\\delta_{xy}$\n",
    "\n",
    "$$= \\langle x_{i_1} | T_1+V_1\\ket{x_{j_1}}\\delta_{{x_{i_2}}{x_{j_2}}}+\\langle x_{i_2} | T_2+V_2\\ket{x_{j_2}}\\delta_{{x_{i_1}}x_{j_1}}+\\sum_{i<j}U(x_{j_1} x_{j_2})$$"
   ]
  },
  {
   "cell_type": "code",
   "execution_count": 46,
   "metadata": {},
   "outputs": [],
   "source": [
    "def identity(NGrid):\n",
    "    \"\"\"Create the identity operator for N particles.\"\"\"\n",
    "    return torch.eye(NGrid, device=device)\n",
    "\n",
    "II = identity(N_POINTS)"
   ]
  },
  {
   "cell_type": "code",
   "execution_count": 47,
   "metadata": {},
   "outputs": [],
   "source": [
    "def single_particle_potential(x,V0,K1):\n",
    "    return V0*torch.sin(K1*x).pow(2)"
   ]
  },
  {
   "cell_type": "code",
   "execution_count": 48,
   "metadata": {},
   "outputs": [],
   "source": [
    "def hamiltonian_matrix(N_POINTS, GRID_SPACING, PBC, potential_parameters, x):\n",
    "    kin_coeff = -HBAR**2 / (2 * MASS * GRID_SPACING**2)\n",
    "    kin_main_diag = -2*torch.ones(N_POINTS, device=device)  # Main diagonal for kinetic energy\n",
    "    kin_off_diags = 1*torch.ones(N_POINTS-1, device=device)  # Off-diagonal elements for kinetic energy\n",
    "    # kin_matrix = torch.zeros((N_POINTS, N_POINTS))\n",
    "    kin_matrix = torch.diag(kin_main_diag).to(device)\n",
    "    kin_matrix += torch.diag(kin_off_diags, diagonal=1)\n",
    "    kin_matrix += torch.diag(kin_off_diags, diagonal=-1)\n",
    "    if PBC:\n",
    "        kin_matrix[0, -1] = 1\n",
    "        kin_matrix[-1, 0] = 1\n",
    "    pot_matrix = torch.zeros((N_POINTS, N_POINTS), device=device)\n",
    "    for i in range(N_POINTS):\n",
    "        pot_matrix[i, i] = single_particle_potential(x[i],**potential_parameters)\n",
    "        # TO TRY HARMONIC POTENTIAL COMMENT OUT ABOVE LINE AND UNCOMMENT BELOW\n",
    "        # pot_matrix[i, i] = 0.5*MASS* x[i]**2  # Harmonic potential\n",
    "    return kin_coeff * kin_matrix + pot_matrix"
   ]
  },
  {
   "cell_type": "code",
   "execution_count": 67,
   "metadata": {},
   "outputs": [
    {
     "name": "stdout",
     "output_type": "stream",
     "text": [
      "tensor([0., 1.], device='cuda:0')\n",
      "tensor([[ 1.0000, -0.5000],\n",
      "        [-0.5000,  1.0000]], device='cuda:0')\n",
      "tensor([[ 1.0000,  0.0000, -0.5000, -0.0000],\n",
      "        [ 0.0000,  1.0000, -0.0000, -0.5000],\n",
      "        [-0.5000, -0.0000,  1.0000,  0.0000],\n",
      "        [-0.0000, -0.5000,  0.0000,  1.0000]], device='cuda:0')\n",
      "tensor([[ 1.0000, -0.5000,  0.0000, -0.0000],\n",
      "        [-0.5000,  1.0000, -0.0000,  0.0000],\n",
      "        [ 0.0000, -0.0000,  1.0000, -0.5000],\n",
      "        [-0.0000,  0.0000, -0.5000,  1.0000]], device='cuda:0')\n",
      "tensor([[ 2.0000, -0.5000, -0.5000, -0.0000],\n",
      "        [-0.5000,  2.0000, -0.0000, -0.5000],\n",
      "        [-0.5000, -0.0000,  2.0000, -0.5000],\n",
      "        [-0.0000, -0.5000, -0.5000,  2.0000]], device='cuda:0')\n"
     ]
    },
    {
     "data": {
      "text/plain": [
       "<matplotlib.lines.Line2D at 0x77d79ddd3a40>"
      ]
     },
     "execution_count": 67,
     "metadata": {},
     "output_type": "execute_result"
    },
    {
     "data": {
      "image/png": "[encoded data removed]",
      "text/plain": [
       "<Figure size 640x480 with 1 Axes>"
      ]
     },
     "metadata": {},
     "output_type": "display_data"
    }
   ],
   "source": [
    "pos = torch.linspace(0, 1, N_POINTS, device=device)\n",
    "print(pos)\n",
    "X_i,X_j = torch.meshgrid(pos,pos, indexing='ij')\n",
    "\n",
    "one_body_hami = hamiltonian_matrix(\n",
    "    N_POINTS=N_POINTS,\n",
    "    GRID_SPACING=pos[1] - pos[0],\n",
    "    PBC=PBC,\n",
    "    potential_parameters={\n",
    "        'V0': 1.0,\n",
    "        'K1': torch.pi\n",
    "    },\n",
    "    x=pos\n",
    ")\n",
    "\n",
    "print(one_body_hami)\n",
    "print(torch.kron(one_body_hami,II))\n",
    "print(torch.kron(II,one_body_hami))\n",
    "\n",
    "full_onebody_hami = torch.kron(II, one_body_hami)+ torch.kron(one_body_hami, II)\n",
    "print(full_onebody_hami)\n",
    "# Plotting the Hamiltonian matrix\n",
    "plt.spy(full_onebody_hami.cpu(), markersize=1)"
   ]
  },
  {
   "cell_type": "code",
   "execution_count": 68,
   "metadata": {},
   "outputs": [],
   "source": [
    "def interaction_potential(x1, x2, g):\n",
    "    \"\"\"Define the interaction potential between two particles.\"\"\"\n",
    "    return g * torch.exp(-((x1 - x2) ** 2)/(2 * 0.5 ** 2))"
   ]
  },
  {
   "cell_type": "code",
   "execution_count": 71,
   "metadata": {},
   "outputs": [
    {
     "name": "stdout",
     "output_type": "stream",
     "text": [
      "tensor([[1.0000, 0.1353],\n",
      "        [0.1353, 1.0000]], device='cuda:0')\n"
     ]
    }
   ],
   "source": [
    "two_body_matrix = interaction_potential(X_i,X_j,1.0)\n",
    "print(two_body_matrix)"
   ]
  },
  {
   "cell_type": "code",
   "execution_count": 70,
   "metadata": {},
   "outputs": [
    {
     "data": {
      "text/plain": [
       "<matplotlib.image.AxesImage at 0x77d79dbbcb90>"
      ]
     },
     "execution_count": 70,
     "metadata": {},
     "output_type": "execute_result"
    },
    {
     "data": {
      "image/png": "[encoded data removed]",
      "text/plain": [
       "<Figure size 640x480 with 1 Axes>"
      ]
     },
     "metadata": {},
     "output_type": "display_data"
    }
   ],
   "source": [
    "plt.imshow(two_body_matrix.cpu(), cmap='hot', interpolation='nearest')"
   ]
  },
  {
   "cell_type": "code",
   "execution_count": 72,
   "metadata": {},
   "outputs": [
    {
     "name": "stdout",
     "output_type": "stream",
     "text": [
      "tensor([[ 3.0000, -0.5000, -0.5000,  0.0000],\n",
      "        [-0.5000,  2.1353,  0.0000, -0.5000],\n",
      "        [-0.5000,  0.0000,  2.1353, -0.5000],\n",
      "        [ 0.0000, -0.5000, -0.5000,  3.0000]], device='cuda:0')\n"
     ]
    },
    {
     "data": {
      "image/png": "[encoded data removed]",
      "text/plain": [
       "<Figure size 640x480 with 2 Axes>"
      ]
     },
     "metadata": {},
     "output_type": "display_data"
    }
   ],
   "source": [
    "def total_hami(one_body, potential):\n",
    "    potential_flattened = potential.flatten()\n",
    "    total_matrix = one_body + torch.diag(potential_flattened)\n",
    "    return total_matrix\n",
    "total_matrix = total_hami(full_onebody_hami, two_body_matrix)\n",
    "\n",
    "plt.imshow((total_matrix).cpu(), cmap='hot')\n",
    "plt.colorbar()\n",
    "\n",
    "# define the labels:\n",
    "\n",
    "labels = []\n",
    "\n",
    "for i in range(N_POINTS):\n",
    "    for j in range(N_POINTS):\n",
    "        labels.append(f\"|{i},{j}>\")\n",
    "\n",
    "# Set the labels for the axes\n",
    "# plt.xticks(ticks=range(len(labels)), labels=labels, rotation=90)\n",
    "# plt.yticks(ticks=range(len(labels)), labels=labels)\n",
    "# plt.show();\n",
    "\n",
    "# only show some labels\n",
    "# label_spacing = 499\n",
    "# plt.xticks(ticks=range(0, len(labels), label_spacing), labels=labels[::label_spacing], rotation=90)\n",
    "# plt.yticks(ticks=range(0, len(labels), label_spacing), labels=labels[::label_spacing])\n",
    "# plt.xlim(0, 5)\n",
    "# plt.ylim(0, 5)\n",
    ";\n",
    "\n",
    "print(total_matrix)"
   ]
  },
  {
   "cell_type": "code",
   "execution_count": null,
   "metadata": {},
   "outputs": [],
   "source": []
  },
  {
   "cell_type": "code",
   "execution_count": 62,
   "metadata": {},
   "outputs": [
    {
     "name": "stdout",
     "output_type": "stream",
     "text": [
      "Index for state |0,1>: 1\n",
      "two_body pot at idx |0,1>: 3.726653176272521e-06\n",
      "flattened two_body pot at idx |0,1>: 3.726653176272521e-06\n"
     ]
    }
   ],
   "source": [
    "def get_idx(first_parti, second_parti):\n",
    "    \"\"\"Get the index for the state |first_parti, second_parti>.\"\"\"\n",
    "    return first_parti * N_POINTS + second_parti\n",
    "\n",
    "# Example usage of get_idx\n",
    "i = 0\n",
    "j = 1\n",
    "idx = get_idx(i, j)\n",
    "print(f\"Index for state |{i},{j}>: {idx}\")\n",
    "\n",
    "print(f\"two_body pot at idx |{i},{j}>: {two_body_matrix[i,j]}\")\n",
    "print(f\"flattened two_body pot at idx |{i},{j}>: {two_body_matrix.flatten()[idx]}\")"
   ]
  },
  {
   "cell_type": "code",
   "execution_count": null,
   "metadata": {},
   "outputs": [],
   "source": []
  }
 ],
 "metadata": {
  "kernelspec": {
   "display_name": "base",
   "language": "python",
   "name": "python3"
  },
  "language_info": {
   "codemirror_mode": {
    "name": "ipython",
    "version": 3
   },
   "file_extension": ".py",
   "mimetype": "text/x-python",
   "name": "python",
   "nbconvert_exporter": "python",
   "pygments_lexer": "ipython3",
   "version": "3.12.7"
  }
 },
 "nbformat": 4,
 "nbformat_minor": 2
}
