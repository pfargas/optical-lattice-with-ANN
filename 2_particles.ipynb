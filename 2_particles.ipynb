{
 "cells": [
  {
   "cell_type": "code",
   "execution_count": 3,
   "metadata": {},
   "outputs": [],
   "source": [
    "import torch\n",
    "import matplotlib.pyplot as plt\n",
    "\n",
    "device = torch.device(\"cpu\" if torch.cuda.is_available() else \"cpu\")\n",
    "torch.set_default_dtype(torch.float32)"
   ]
  },
  {
   "cell_type": "code",
   "execution_count": 11,
   "metadata": {},
   "outputs": [],
   "source": [
    "# PARAMS\n",
    "HBAR        = 1.0\n",
    "MASS        = 1.0\n",
    "PBC         = True\n",
    "N_PARTICLES = 2\n",
    "N_POINTS    = 10"
   ]
  },
  {
   "cell_type": "markdown",
   "metadata": {},
   "source": [
    "# Two particles"
   ]
  },
  {
   "cell_type": "markdown",
   "metadata": {},
   "source": [
    "### Exact Diagonalization\n",
    "\n",
    "The one body part (kinetic and potential terms) of the hamiltonian in the position basis reads:\n",
    "\n",
    "$$H = \\mathbb{I}\\otimes \\dots \\otimes K_i\\otimes \\mathbb{I}\\otimes ...\\otimes \\mathbb{I}+\\mathbb{I}\\otimes \\dots \\otimes V_i\\otimes \\mathbb{I}\\otimes ...\\otimes \\mathbb{I}$$\n",
    "\n",
    "Where $K_i \\equiv -\\frac{\\hbar^2}{2m}\\nabla_i^2,\\quad V_i \\equiv V(x_i)$ and $i$ is the index of the particle.\n",
    "\n",
    "How to construct the hamiltonian: Given a base (in this case distretized positions) $\\ket{x_1 x_2...x_p}$ with $p$ particles\n",
    "\n",
    "$$\\hat H = \\sum_{i,j,...}\\sum_{ i', j', ...}\\bra{x_i x_j...}\\hat{H}\\ket{x_{i'} x_{j'}...}\\ket{x_i x_j...}\\bra{x_{i'} x_{j'}...}$$\n",
    "\n",
    "Where $\\hat{H} = \\sum_{i=1}^P T_i+V_i + \\sum_{i<j}U(x_i-y_j)$\n",
    "\n",
    "With two particles, the matrix elements $\\bra{x_i y_j}\\hat{H}\\ket{x_i y_j}$ are:\n",
    "\n",
    "$$\\bra{x_i y_j}\\hat{H}\\ket{x_i y_j} = \\bra{x_i}T+V\\ket{x_j} + \\braket{y}$$\n",
    "\n",
    "$$\\hat{H} = \\sum_{i_1=1}^N \\cdots \\sum_{i_P=1}^N \\sum_{j_1=1}^N \\cdots \\sum_{j_P=1}^N\n",
    "\\langle x_{i_1} x_{i_2} \\dots x_{i_P} | \\hat{H} | x_{j_1} x_{j_2} \\dots x_{j_P} \\rangle\n",
    "\\, | x_{i_1} x_{i_2} \\dots x_{i_P} \\rangle \\langle x_{j_1} x_{j_2} \\dots x_{j_P} |$$\n",
    "\n",
    "\n",
    "$$\\hat{H} = \\sum_{i_1\\cdots i_P=1}^N \\sum_{j_1\\cdots j_P=1}^N\n",
    "\\langle x_{i_1} x_{i_2} \\dots x_{i_P} | \\hat{H} | x_{j_1} x_{j_2} \\dots x_{j_P} \\rangle\n",
    "\\, | x_{i_1} x_{i_2} \\dots x_{i_P} \\rangle \\langle x_{j_1} x_{j_2} \\dots x_{j_P} |$$\n",
    "\n",
    "For 2 particles we have:\n",
    "\n",
    "$$\\hat{H} = \\sum_{i_1 i_2 = 1}^2\\sum_{j_1 j_2 = 1}^2\\langle x_{i_1} x_{i_2} | \\hat{H} | x_{j_1} x_{j_2} \\rangle\n",
    "\\, | x_{i_1} x_{i_2}\\rangle \\langle x_{j_1} x_{j_2} |$$\n",
    "\n",
    "Where\n",
    "\n",
    "$$\\langle x_{i_1} x_{i_2} | \\hat{H} | x_{j_1} x_{j_2} \\rangle = \\langle x_{i_1} x_{i_2} | T_1+V_1+T_2+V_2+\\sum_{i<j}U_{ij} | x_{j_1} x_{j_2} \\rangle = $$\n",
    "\n",
    "$$= \\langle x_{i_1} | T_1+V_1\\ket{x_{j_1}}\\langle{x_{i_2}}|{x_{j_2}}\\rangle+\\langle x_{i_2} | T_2+V_2\\ket{x_{j_2}}\\langle{x_{i_1}}|{x_{j_1}}\\rangle+\\sum_{i<j} \\langle x_{i_1} x_{i_2} |U_{ij}| x_{j_1} x_{j_2} \\rangle$$\n",
    "\n",
    "Using that in position space, the potentials are diagonal: $\\langle y| V | x\\rangle = V(x)\\delta_{xy}$\n",
    "\n",
    "$$= \\langle x_{i_1} | T_1+V_1\\ket{x_{j_1}}\\delta_{{x_{i_2}}{x_{j_2}}}+\\langle x_{i_2} | T_2+V_2\\ket{x_{j_2}}\\delta_{{x_{i_1}}x_{j_1}}+\\sum_{i<j}U(x_{j_1} x_{j_2})$$"
   ]
  },
  {
   "cell_type": "code",
   "execution_count": 12,
   "metadata": {},
   "outputs": [],
   "source": [
    "def identity(NGrid):\n",
    "    \"\"\"Create the identity operator for N particles.\"\"\"\n",
    "    return torch.eye(NGrid, device=device)\n",
    "\n",
    "II = identity(N_POINTS)"
   ]
  },
  {
   "cell_type": "code",
   "execution_count": 13,
   "metadata": {},
   "outputs": [],
   "source": [
    "def single_particle_potential(x,V0,K1):\n",
    "    return V0*torch.sin(K1*x).pow(2)"
   ]
  },
  {
   "cell_type": "code",
   "execution_count": 7,
   "metadata": {},
   "outputs": [],
   "source": [
    "def hamiltonian_matrix(N_POINTS, GRID_SPACING, PBC, potential_parameters, x):\n",
    "    kin_coeff = -HBAR**2 / (2 * MASS * GRID_SPACING**2)\n",
    "    kin_main_diag = -2*torch.ones(N_POINTS, device=device)  # Main diagonal for kinetic energy\n",
    "    kin_off_diags = 1*torch.ones(N_POINTS-1, device=device)  # Off-diagonal elements for kinetic energy\n",
    "    # kin_matrix = torch.zeros((N_POINTS, N_POINTS))\n",
    "    kin_matrix = torch.diag(kin_main_diag).to(device)\n",
    "    kin_matrix += torch.diag(kin_off_diags, diagonal=1)\n",
    "    kin_matrix += torch.diag(kin_off_diags, diagonal=-1)\n",
    "    if PBC:\n",
    "        kin_matrix[0, -1] = 1\n",
    "        kin_matrix[-1, 0] = 1\n",
    "    pot_matrix = torch.zeros((N_POINTS, N_POINTS), device=device)\n",
    "    for i in range(N_POINTS):\n",
    "        pot_matrix[i, i] = single_particle_potential(x[i],**potential_parameters)\n",
    "        # TO TRY HARMONIC POTENTIAL COMMENT OUT ABOVE LINE AND UNCOMMENT BELOW\n",
    "        # pot_matrix[i, i] = 0.5*MASS* x[i]**2  # Harmonic potential\n",
    "    return kin_coeff * kin_matrix + pot_matrix"
   ]
  },
  {
   "cell_type": "code",
   "execution_count": 6,
   "metadata": {},
   "outputs": [
    {
     "name": "stdout",
     "output_type": "stream",
     "text": [
      "tensor([-3.0000, -2.9597, -2.9195, -2.8792, -2.8389, -2.7987, -2.7584, -2.7181,\n",
      "        -2.6779, -2.6376, -2.5973, -2.5570, -2.5168, -2.4765, -2.4362, -2.3960,\n",
      "        -2.3557, -2.3154, -2.2752, -2.2349, -2.1946, -2.1544, -2.1141, -2.0738,\n",
      "        -2.0336, -1.9933, -1.9530, -1.9128, -1.8725, -1.8322, -1.7919, -1.7517,\n",
      "        -1.7114, -1.6711, -1.6309, -1.5906, -1.5503, -1.5101, -1.4698, -1.4295,\n",
      "        -1.3893, -1.3490, -1.3087, -1.2685, -1.2282, -1.1879, -1.1477, -1.1074,\n",
      "        -1.0671, -1.0268, -0.9866, -0.9463, -0.9060, -0.8658, -0.8255, -0.7852,\n",
      "        -0.7450, -0.7047, -0.6644, -0.6242, -0.5839, -0.5436, -0.5034, -0.4631,\n",
      "        -0.4228, -0.3826, -0.3423, -0.3020, -0.2617, -0.2215, -0.1812, -0.1409,\n",
      "        -0.1007, -0.0604, -0.0201,  0.0201,  0.0604,  0.1007,  0.1409,  0.1812,\n",
      "         0.2215,  0.2617,  0.3020,  0.3423,  0.3826,  0.4228,  0.4631,  0.5034,\n",
      "         0.5436,  0.5839,  0.6242,  0.6644,  0.7047,  0.7450,  0.7852,  0.8255,\n",
      "         0.8658,  0.9060,  0.9463,  0.9866,  1.0268,  1.0671,  1.1074,  1.1477,\n",
      "         1.1879,  1.2282,  1.2685,  1.3087,  1.3490,  1.3893,  1.4295,  1.4698,\n",
      "         1.5101,  1.5503,  1.5906,  1.6309,  1.6711,  1.7114,  1.7517,  1.7919,\n",
      "         1.8322,  1.8725,  1.9128,  1.9530,  1.9933,  2.0336,  2.0738,  2.1141,\n",
      "         2.1544,  2.1946,  2.2349,  2.2752,  2.3154,  2.3557,  2.3960,  2.4362,\n",
      "         2.4765,  2.5168,  2.5570,  2.5973,  2.6376,  2.6779,  2.7181,  2.7584,\n",
      "         2.7987,  2.8389,  2.8792,  2.9195,  2.9597,  3.0000])\n",
      "tensor([[ 616.6955, -308.3477,    0.0000,  ...,    0.0000,    0.0000,\n",
      "         -308.3477],\n",
      "        [-308.3477,  616.7114, -308.3477,  ...,    0.0000,    0.0000,\n",
      "            0.0000],\n",
      "        [   0.0000, -308.3477,  616.7582,  ...,    0.0000,    0.0000,\n",
      "            0.0000],\n",
      "        ...,\n",
      "        [   0.0000,    0.0000,    0.0000,  ...,  616.7582, -308.3477,\n",
      "            0.0000],\n",
      "        [   0.0000,    0.0000,    0.0000,  ..., -308.3477,  616.7114,\n",
      "         -308.3477],\n",
      "        [-308.3477,    0.0000,    0.0000,  ...,    0.0000, -308.3477,\n",
      "          616.6955]])\n",
      "tensor([[616.6955,   0.0000,   0.0000,  ...,  -0.0000,  -0.0000,  -0.0000],\n",
      "        [  0.0000, 616.6955,   0.0000,  ...,  -0.0000,  -0.0000,  -0.0000],\n",
      "        [  0.0000,   0.0000, 616.6955,  ...,  -0.0000,  -0.0000,  -0.0000],\n",
      "        ...,\n",
      "        [ -0.0000,  -0.0000,  -0.0000,  ..., 616.6955,   0.0000,   0.0000],\n",
      "        [ -0.0000,  -0.0000,  -0.0000,  ...,   0.0000, 616.6955,   0.0000],\n",
      "        [ -0.0000,  -0.0000,  -0.0000,  ...,   0.0000,   0.0000, 616.6955]])\n",
      "tensor([[ 616.6955, -308.3477,    0.0000,  ...,    0.0000,    0.0000,\n",
      "           -0.0000],\n",
      "        [-308.3477,  616.7114, -308.3477,  ...,    0.0000,    0.0000,\n",
      "            0.0000],\n",
      "        [   0.0000, -308.3477,  616.7582,  ...,    0.0000,    0.0000,\n",
      "            0.0000],\n",
      "        ...,\n",
      "        [   0.0000,    0.0000,    0.0000,  ...,  616.7582, -308.3477,\n",
      "            0.0000],\n",
      "        [   0.0000,    0.0000,    0.0000,  ..., -308.3477,  616.7114,\n",
      "         -308.3477],\n",
      "        [  -0.0000,    0.0000,    0.0000,  ...,    0.0000, -308.3477,\n",
      "          616.6955]])\n",
      "tensor([[1233.3910, -308.3477,    0.0000,  ...,    0.0000,    0.0000,\n",
      "           -0.0000],\n",
      "        [-308.3477, 1233.4070, -308.3477,  ...,    0.0000,    0.0000,\n",
      "            0.0000],\n",
      "        [   0.0000, -308.3477, 1233.4536,  ...,    0.0000,    0.0000,\n",
      "            0.0000],\n",
      "        ...,\n",
      "        [   0.0000,    0.0000,    0.0000,  ..., 1233.4536, -308.3477,\n",
      "            0.0000],\n",
      "        [   0.0000,    0.0000,    0.0000,  ..., -308.3477, 1233.4070,\n",
      "         -308.3477],\n",
      "        [  -0.0000,    0.0000,    0.0000,  ...,    0.0000, -308.3477,\n",
      "         1233.3910]])\n"
     ]
    },
    {
     "data": {
      "text/plain": [
       "<matplotlib.lines.Line2D at 0x7b5c7b737e00>"
      ]
     },
     "execution_count": 6,
     "metadata": {},
     "output_type": "execute_result"
    },
    {
     "data": {
      "image/png": "[encoded data removed]",
      "text/plain": [
       "<Figure size 640x480 with 1 Axes>"
      ]
     },
     "metadata": {},
     "output_type": "display_data"
    }
   ],
   "source": [
    "pos = torch.linspace(-3, 3, N_POINTS, device=device)\n",
    "print(pos)\n",
    "X_i,X_j = torch.meshgrid(pos,pos, indexing='ij')\n",
    "\n",
    "one_body_hami = hamiltonian_matrix(\n",
    "    N_POINTS=N_POINTS,\n",
    "    GRID_SPACING=pos[1] - pos[0],\n",
    "    PBC=PBC,\n",
    "    potential_parameters={\n",
    "        'V0': 1.0,\n",
    "        'K1': torch.pi\n",
    "    },\n",
    "    x=pos\n",
    ")\n",
    "\n",
    "print(one_body_hami)\n",
    "print(torch.kron(one_body_hami,II))\n",
    "print(torch.kron(II,one_body_hami))\n",
    "\n",
    "full_onebody_hami = torch.kron(II, one_body_hami)+ torch.kron(one_body_hami, II)\n",
    "print(full_onebody_hami)\n",
    "# Plotting the Hamiltonian matrix\n",
    "plt.spy(full_onebody_hami.cpu(), markersize=1)"
   ]
  },
  {
   "cell_type": "code",
   "execution_count": 7,
   "metadata": {},
   "outputs": [],
   "source": [
    "def interaction_potential(x1, x2, g):\n",
    "    \"\"\"Define the interaction potential between two particles.\"\"\"\n",
    "    return g * torch.exp(-((x1 - x2) ** 2)/(2 * 0.5 ** 2))"
   ]
  },
  {
   "cell_type": "code",
   "execution_count": 8,
   "metadata": {},
   "outputs": [
    {
     "name": "stdout",
     "output_type": "stream",
     "text": [
      "tensor([[1.0000e+00, 9.9676e-01, 9.8711e-01,  ..., 3.6695e-31, 1.4096e-31,\n",
      "         5.3802e-32],\n",
      "        [9.9676e-01, 1.0000e+00, 9.9676e-01,  ..., 9.4904e-31, 3.6695e-31,\n",
      "         1.4096e-31],\n",
      "        [9.8711e-01, 9.9676e-01, 1.0000e+00,  ..., 2.4386e-30, 9.4904e-31,\n",
      "         3.6695e-31],\n",
      "        ...,\n",
      "        [3.6695e-31, 9.4904e-31, 2.4386e-30,  ..., 1.0000e+00, 9.9676e-01,\n",
      "         9.8711e-01],\n",
      "        [1.4096e-31, 3.6695e-31, 9.4904e-31,  ..., 9.9676e-01, 1.0000e+00,\n",
      "         9.9676e-01],\n",
      "        [5.3802e-32, 1.4096e-31, 3.6695e-31,  ..., 9.8711e-01, 9.9676e-01,\n",
      "         1.0000e+00]])\n"
     ]
    }
   ],
   "source": [
    "two_body_matrix = interaction_potential(X_i,X_j,1.0)\n",
    "print(two_body_matrix)"
   ]
  },
  {
   "cell_type": "code",
   "execution_count": 9,
   "metadata": {},
   "outputs": [
    {
     "data": {
      "text/plain": [
       "<matplotlib.image.AxesImage at 0x7b5d7d8f6cf0>"
      ]
     },
     "execution_count": 9,
     "metadata": {},
     "output_type": "execute_result"
    },
    {
     "data": {
      "image/png": "[encoded data removed]",
      "text/plain": [
       "<Figure size 640x480 with 1 Axes>"
      ]
     },
     "metadata": {},
     "output_type": "display_data"
    }
   ],
   "source": [
    "plt.imshow(two_body_matrix.cpu(), cmap='hot', interpolation='nearest')"
   ]
  },
  {
   "cell_type": "code",
   "execution_count": null,
   "metadata": {},
   "outputs": [
    {
     "name": "stdout",
     "output_type": "stream",
     "text": [
      "tensor([[1234.3910, -308.3477,    0.0000,  ...,    0.0000,    0.0000,\n",
      "            0.0000],\n",
      "        [-308.3477, 1234.4037, -308.3477,  ...,    0.0000,    0.0000,\n",
      "            0.0000],\n",
      "        [   0.0000, -308.3477, 1234.4407,  ...,    0.0000,    0.0000,\n",
      "            0.0000],\n",
      "        ...,\n",
      "        [   0.0000,    0.0000,    0.0000,  ..., 1234.4407, -308.3477,\n",
      "            0.0000],\n",
      "        [   0.0000,    0.0000,    0.0000,  ..., -308.3477, 1234.4037,\n",
      "         -308.3477],\n",
      "        [   0.0000,    0.0000,    0.0000,  ...,    0.0000, -308.3477,\n",
      "         1234.3910]])\n"
     ]
    },
    {
     "data": {
      "image/png": "[encoded data removed]",
      "text/plain": [
       "<Figure size 640x480 with 2 Axes>"
      ]
     },
     "metadata": {},
     "output_type": "display_data"
    },
    {
     "ename": "",
     "evalue": "",
     "output_type": "error",
     "traceback": [
      "\u001b[1;31mThe Kernel crashed while executing code in the current cell or a previous cell. \n",
      "\u001b[1;31mPlease review the code in the cell(s) to identify a possible cause of the failure. \n",
      "\u001b[1;31mClick <a href='https://aka.ms/vscodeJupyterKernelCrash'>here</a> for more info. \n",
      "\u001b[1;31mView Jupyter <a href='command:jupyter.viewOutput'>log</a> for further details."
     ]
    }
   ],
   "source": [
    "def total_hami(one_body, potential):\n",
    "    potential_flattened = potential.flatten()\n",
    "    total_matrix = one_body + torch.diag(potential_flattened)\n",
    "    return total_matrix\n",
    "total_matrix = total_hami(full_onebody_hami, two_body_matrix)\n",
    "\n",
    "plt.imshow((total_matrix).cpu(), cmap='hot')\n",
    "plt.colorbar()\n",
    "\n",
    "# define the labels:\n",
    "\n",
    "labels = []\n",
    "\n",
    "for i in range(N_POINTS):\n",
    "    for j in range(N_POINTS):\n",
    "        labels.append(f\"|{i},{j}>\")\n",
    "\n",
    "# Set the labels for the axes\n",
    "# plt.xticks(ticks=range(len(labels)), labels=labels, rotation=90)\n",
    "# plt.yticks(ticks=range(len(labels)), labels=labels)\n",
    "# plt.show();\n",
    "\n",
    "# only show some labels\n",
    "# label_spacing = 499\n",
    "# plt.xticks(ticks=range(0, len(labels), label_spacing), labels=labels[::label_spacing], rotation=90)\n",
    "# plt.yticks(ticks=range(0, len(labels), label_spacing), labels=labels[::label_spacing])\n",
    "# plt.xlim(0, 5)\n",
    "# plt.ylim(0, 5)\n",
    ";\n",
    "\n",
    "# print(total_matrix)"
   ]
  },
  {
   "cell_type": "code",
   "execution_count": null,
   "metadata": {},
   "outputs": [],
   "source": [
    "evals, evecs = torch.linalg.eigh(total_matrix)\n",
    "print(\"Eigenvalues:\", evals[:10])  # Print the first 10 eigenvalues\n",
    "# plot gs \n",
    "gs_eigenvector = evecs[:, 0].reshape(N_POINTS, N_POINTS)\n",
    "plt.imshow(gs_eigenvector.cpu().real, cmap='hot')\n",
    "plt.colorbar()"
   ]
  },
  {
   "cell_type": "code",
   "execution_count": null,
   "metadata": {},
   "outputs": [
    {
     "data": {
      "text/plain": [
       "[<matplotlib.lines.Line2D at 0x768791a57680>]"
      ]
     },
     "execution_count": 35,
     "metadata": {},
     "output_type": "execute_result"
    },
    {
     "data": {
      "image/png": "[encoded data removed]",
      "text/plain": [
       "<Figure size 640x480 with 1 Axes>"
      ]
     },
     "metadata": {},
     "output_type": "display_data"
    }
   ],
   "source": [
    "# plot state with particle 2 at 0\n",
    "gs_2nd_particle = gs_eigenvector[:, 0]  # Take the first column for particle 2 at position 0\n",
    "plt.plot(pos.cpu().numpy(), gs_2nd_particle.cpu().real**2, label='Particle 2 at 0')\n",
    "# plt.ylim(0, torch.max(gs_2nd_particle**2).item() + 0.1)\n",
    "# plt.plot(pos.cpu().numpy(), torch.sin(torch.pi*pos).pow(2).cpu().numpy(), label='Potential')"
   ]
  },
  {
   "cell_type": "code",
   "execution_count": 24,
   "metadata": {},
   "outputs": [
    {
     "name": "stdout",
     "output_type": "stream",
     "text": [
      "Index for state |0,1>: 1\n",
      "two_body pot at idx |0,1>: 0.9967403411865234\n",
      "flattened two_body pot at idx |0,1>: 0.9967403411865234\n"
     ]
    }
   ],
   "source": [
    "def get_idx(first_parti, second_parti):\n",
    "    \"\"\"Get the index for the state |first_parti, second_parti>.\"\"\"\n",
    "    return first_parti * N_POINTS + second_parti\n",
    "\n",
    "# Example usage of get_idx\n",
    "i = 0\n",
    "j = 1\n",
    "idx = get_idx(i, j)\n",
    "print(f\"Index for state |{i},{j}>: {idx}\")\n",
    "\n",
    "print(f\"two_body pot at idx |{i},{j}>: {two_body_matrix[i,j]}\")\n",
    "print(f\"flattened two_body pot at idx |{i},{j}>: {two_body_matrix.flatten()[idx]}\")"
   ]
  },
  {
   "cell_type": "code",
   "execution_count": 37,
   "metadata": {},
   "outputs": [
    {
     "name": "stdout",
     "output_type": "stream",
     "text": [
      "Flattened tensor: tensor([1, 2, 3, 4, 5, 6])\n",
      "Reconstructed tensor: tensor([[1, 2, 3],\n",
      "        [4, 5, 6]])\n"
     ]
    }
   ],
   "source": [
    "test_reshaping = torch.tensor([[1, 2, 3], [4, 5, 6]])\n",
    "flattened = test_reshaping.flatten()\n",
    "print(\"Flattened tensor:\", flattened)\n",
    "reconstructed  = flattened.reshape(2,3)\n",
    "print(\"Reconstructed tensor:\", reconstructed)"
   ]
  },
  {
   "cell_type": "code",
   "execution_count": 18,
   "metadata": {},
   "outputs": [
    {
     "data": {
      "text/plain": [
       "<matplotlib.image.AxesImage at 0x75ffe2bae4b0>"
      ]
     },
     "execution_count": 18,
     "metadata": {},
     "output_type": "execute_result"
    },
    {
     "data": {
      "image/png": "[encoded data removed]",
      "text/plain": [
       "<Figure size 640x480 with 1 Axes>"
      ]
     },
     "metadata": {},
     "output_type": "display_data"
    }
   ],
   "source": [
    "N_points = 2\n",
    "II = identity(N_points)\n",
    "\n",
    "def constant_pot(x, V0=1.0):\n",
    "    \"\"\"Define a constant potential.\"\"\"\n",
    "    return V0 * torch.ones_like(x)* x\n",
    "\n",
    "def one_body_potential_matrix(x):\n",
    "    \"\"\"Create the one-body potential matrix.\"\"\"\n",
    "\n",
    "    return torch.diag(constant_pot(x))\n",
    "\n",
    "x = torch.linspace(-3, 3, N_POINTS, device=device)\n",
    "one_body_potential = one_body_potential_matrix(x)\n",
    "plt.imshow(one_body_potential.cpu(), cmap='hot')"
   ]
  },
  {
   "cell_type": "code",
   "execution_count": 19,
   "metadata": {},
   "outputs": [
    {
     "name": "stdout",
     "output_type": "stream",
     "text": [
      "position 0,0 in full potential: -6.0\n",
      "position 0,0 in potential   : -3.0\n"
     ]
    },
    {
     "data": {
      "image/png": "[encoded data removed]",
      "text/plain": [
       "<Figure size 640x480 with 1 Axes>"
      ]
     },
     "metadata": {},
     "output_type": "display_data"
    }
   ],
   "source": [
    "full_potential = torch.kron(one_body_potential, II) + torch.kron(II, one_body_potential)\n",
    "plt.imshow(full_potential.cpu(), cmap='hot')\n",
    "\n",
    "print(f\"position 0,0 in full potential: {full_potential[0,0]}\")\n",
    "print(f\"position 0,0 in potential   : {one_body_potential[0,0]}\")"
   ]
  },
  {
   "cell_type": "markdown",
   "metadata": {},
   "source": [
    "## HOW TO COMPUTE IDX\n",
    "\n",
    "If i have a $N$ states $P$ particle QMB state, i can label the state such that:\n",
    "\n",
    "$$\\ket{\\psi} = \\ket{n_1,n_2,...,n_p}$$\n",
    "\n",
    "where each $n_i\\in\\{0,...,N-1\\}$. Then, the flattened idx is computed as:\n",
    "\n",
    "$$idx = \\sum_{p=1}^P n_p N^{P-p}$$\n",
    "\n",
    "Example:\n",
    "\n",
    "Given the state $\\ket{0,2,1}$ with $N=3$, the idx is:\n",
    "\n",
    "$$idx = 0\\cdot 3^2 + 2 \\cdot 3^1 + 1 = 7$$\n",
    "\n",
    "If we do it manually:\n",
    "\n",
    "- (0,0,0): 0\n",
    "- (0,0,1): 1\n",
    "- (0,0,2): 2\n",
    "- (0,1,0): 3\n",
    "- (0,1,1): 4\n",
    "- (0,1,2): 5\n",
    "- (0,2,0): 6\n",
    "- **(0,2,1): 7**\n",
    "- (0,2,2): 8\n",
    "\n",
    "$\\vdots$"
   ]
  },
  {
   "cell_type": "code",
   "execution_count": 53,
   "metadata": {},
   "outputs": [],
   "source": [
    "from collections.abc import Sequence\n",
    "import numpy as np\n",
    "\n",
    "\n",
    "def compute_idx(input, N_states, N_particles):\n",
    "    \"\"\"Compute the index for a given input state.\"\"\"\n",
    "    if isinstance(input, int):\n",
    "        return input\n",
    "    if np.any(np.array(input) >= N_states):\n",
    "        raise ValueError(\"Input indices must be less than N_states.\")\n",
    "    elif isinstance(input, Sequence) and len(input) == N_particles:\n",
    "        idx = 0\n",
    "        for i in range(1,N_particles+1):\n",
    "            idx += input[i-1] * (N_states ** (N_particles - i))\n",
    "        return idx\n",
    "    else:\n",
    "        raise ValueError(\"Input must be an integer or an iterable of particle indices.\")\n",
    "    \n",
    "def compute_idxs(input, N_states, N_particles):\n",
    "\n",
    "    array = []\n",
    "    for particle in range(N_particles):\n",
    "        array.append(np.floor_divide(input,N_states**(N_particles - particle -1)))\n",
    "        input = input - array[-1] * N_states**(N_particles - particle - 1)\n",
    "    return np.array(array, dtype=int)\n"
   ]
  },
  {
   "cell_type": "code",
   "execution_count": 56,
   "metadata": {},
   "outputs": [
    {
     "name": "stdout",
     "output_type": "stream",
     "text": [
      "22\n",
      "[2 1 1]\n"
     ]
    }
   ],
   "source": [
    "test_idx = compute_idx([2,1,1], 3, 3)\n",
    "print(test_idx)\n",
    "print(compute_idxs(test_idx, 3, 3))"
   ]
  },
  {
   "cell_type": "code",
   "execution_count": 48,
   "metadata": {},
   "outputs": [
    {
     "name": "stdout",
     "output_type": "stream",
     "text": [
      "True\n"
     ]
    }
   ],
   "source": [
    "i = 4\n",
    "N_states = 3\n",
    "input = [0, 2, 1]\n",
    "print(bool(np.any(i< N_states for i in input)))"
   ]
  },
  {
   "cell_type": "code",
   "execution_count": null,
   "metadata": {},
   "outputs": [],
   "source": []
  }
 ],
 "metadata": {
  "kernelspec": {
   "display_name": "base",
   "language": "python",
   "name": "python3"
  },
  "language_info": {
   "codemirror_mode": {
    "name": "ipython",
    "version": 3
   },
   "file_extension": ".py",
   "mimetype": "text/x-python",
   "name": "python",
   "nbconvert_exporter": "python",
   "pygments_lexer": "ipython3",
   "version": "3.12.7"
  }
 },
 "nbformat": 4,
 "nbformat_minor": 2
}
